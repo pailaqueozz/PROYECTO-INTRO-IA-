{
 "cells": [
  {
   "cell_type": "markdown",
   "id": "7fe33020",
   "metadata": {},
   "source": [
    "### **Importación de Librerías**"
   ]
  },
  {
   "cell_type": "code",
   "execution_count": 74,
   "id": "6508738b",
   "metadata": {},
   "outputs": [],
   "source": [
    "import pandas as pd\n",
    "import numpy as np\n",
    "import seaborn as sns\n",
    "import matplotlib.pyplot as plt\n",
    "from sklearn.preprocessing import LabelEncoder\n",
    "from sklearn.model_selection import train_test_split, cross_val_score\n",
    "from sklearn.naive_bayes import CategoricalNB\n",
    "from sklearn.ensemble import RandomForestClassifier\n",
    "from sklearn.metrics import confusion_matrix, classification_report, accuracy_score\n",
    "from sklearn.model_selection import StratifiedKFold\n"
   ]
  },
  {
   "cell_type": "markdown",
   "id": "a51ccd2a",
   "metadata": {},
   "source": [
    "### **Carga del Dataset**"
   ]
  },
  {
   "cell_type": "code",
   "execution_count": 75,
   "id": "83979c0a",
   "metadata": {},
   "outputs": [
    {
     "data": {
      "text/html": [
       "<div>\n",
       "<style scoped>\n",
       "    .dataframe tbody tr th:only-of-type {\n",
       "        vertical-align: middle;\n",
       "    }\n",
       "\n",
       "    .dataframe tbody tr th {\n",
       "        vertical-align: top;\n",
       "    }\n",
       "\n",
       "    .dataframe thead th {\n",
       "        text-align: right;\n",
       "    }\n",
       "</style>\n",
       "<table border=\"1\" class=\"dataframe\">\n",
       "  <thead>\n",
       "    <tr style=\"text-align: right;\">\n",
       "      <th></th>\n",
       "      <th>class</th>\n",
       "      <th>cap-shape</th>\n",
       "      <th>cap-surface</th>\n",
       "      <th>cap-color</th>\n",
       "      <th>bruises</th>\n",
       "      <th>odor</th>\n",
       "      <th>gill-attachment</th>\n",
       "      <th>gill-spacing</th>\n",
       "      <th>gill-size</th>\n",
       "      <th>gill-color</th>\n",
       "      <th>...</th>\n",
       "      <th>stalk-surface-below-ring</th>\n",
       "      <th>stalk-color-above-ring</th>\n",
       "      <th>stalk-color-below-ring</th>\n",
       "      <th>veil-type</th>\n",
       "      <th>veil-color</th>\n",
       "      <th>ring-number</th>\n",
       "      <th>ring-type</th>\n",
       "      <th>spore-print-color</th>\n",
       "      <th>population</th>\n",
       "      <th>habitat</th>\n",
       "    </tr>\n",
       "  </thead>\n",
       "  <tbody>\n",
       "    <tr>\n",
       "      <th>0</th>\n",
       "      <td>p</td>\n",
       "      <td>x</td>\n",
       "      <td>s</td>\n",
       "      <td>n</td>\n",
       "      <td>t</td>\n",
       "      <td>p</td>\n",
       "      <td>f</td>\n",
       "      <td>c</td>\n",
       "      <td>n</td>\n",
       "      <td>k</td>\n",
       "      <td>...</td>\n",
       "      <td>s</td>\n",
       "      <td>w</td>\n",
       "      <td>w</td>\n",
       "      <td>p</td>\n",
       "      <td>w</td>\n",
       "      <td>o</td>\n",
       "      <td>p</td>\n",
       "      <td>k</td>\n",
       "      <td>s</td>\n",
       "      <td>u</td>\n",
       "    </tr>\n",
       "    <tr>\n",
       "      <th>1</th>\n",
       "      <td>e</td>\n",
       "      <td>x</td>\n",
       "      <td>s</td>\n",
       "      <td>y</td>\n",
       "      <td>t</td>\n",
       "      <td>a</td>\n",
       "      <td>f</td>\n",
       "      <td>c</td>\n",
       "      <td>b</td>\n",
       "      <td>k</td>\n",
       "      <td>...</td>\n",
       "      <td>s</td>\n",
       "      <td>w</td>\n",
       "      <td>w</td>\n",
       "      <td>p</td>\n",
       "      <td>w</td>\n",
       "      <td>o</td>\n",
       "      <td>p</td>\n",
       "      <td>n</td>\n",
       "      <td>n</td>\n",
       "      <td>g</td>\n",
       "    </tr>\n",
       "    <tr>\n",
       "      <th>2</th>\n",
       "      <td>e</td>\n",
       "      <td>b</td>\n",
       "      <td>s</td>\n",
       "      <td>w</td>\n",
       "      <td>t</td>\n",
       "      <td>l</td>\n",
       "      <td>f</td>\n",
       "      <td>c</td>\n",
       "      <td>b</td>\n",
       "      <td>n</td>\n",
       "      <td>...</td>\n",
       "      <td>s</td>\n",
       "      <td>w</td>\n",
       "      <td>w</td>\n",
       "      <td>p</td>\n",
       "      <td>w</td>\n",
       "      <td>o</td>\n",
       "      <td>p</td>\n",
       "      <td>n</td>\n",
       "      <td>n</td>\n",
       "      <td>m</td>\n",
       "    </tr>\n",
       "    <tr>\n",
       "      <th>3</th>\n",
       "      <td>p</td>\n",
       "      <td>x</td>\n",
       "      <td>y</td>\n",
       "      <td>w</td>\n",
       "      <td>t</td>\n",
       "      <td>p</td>\n",
       "      <td>f</td>\n",
       "      <td>c</td>\n",
       "      <td>n</td>\n",
       "      <td>n</td>\n",
       "      <td>...</td>\n",
       "      <td>s</td>\n",
       "      <td>w</td>\n",
       "      <td>w</td>\n",
       "      <td>p</td>\n",
       "      <td>w</td>\n",
       "      <td>o</td>\n",
       "      <td>p</td>\n",
       "      <td>k</td>\n",
       "      <td>s</td>\n",
       "      <td>u</td>\n",
       "    </tr>\n",
       "    <tr>\n",
       "      <th>4</th>\n",
       "      <td>e</td>\n",
       "      <td>x</td>\n",
       "      <td>s</td>\n",
       "      <td>g</td>\n",
       "      <td>f</td>\n",
       "      <td>n</td>\n",
       "      <td>f</td>\n",
       "      <td>w</td>\n",
       "      <td>b</td>\n",
       "      <td>k</td>\n",
       "      <td>...</td>\n",
       "      <td>s</td>\n",
       "      <td>w</td>\n",
       "      <td>w</td>\n",
       "      <td>p</td>\n",
       "      <td>w</td>\n",
       "      <td>o</td>\n",
       "      <td>e</td>\n",
       "      <td>n</td>\n",
       "      <td>a</td>\n",
       "      <td>g</td>\n",
       "    </tr>\n",
       "  </tbody>\n",
       "</table>\n",
       "<p>5 rows × 23 columns</p>\n",
       "</div>"
      ],
      "text/plain": [
       "  class cap-shape cap-surface cap-color bruises odor gill-attachment  \\\n",
       "0     p         x           s         n       t    p               f   \n",
       "1     e         x           s         y       t    a               f   \n",
       "2     e         b           s         w       t    l               f   \n",
       "3     p         x           y         w       t    p               f   \n",
       "4     e         x           s         g       f    n               f   \n",
       "\n",
       "  gill-spacing gill-size gill-color  ... stalk-surface-below-ring  \\\n",
       "0            c         n          k  ...                        s   \n",
       "1            c         b          k  ...                        s   \n",
       "2            c         b          n  ...                        s   \n",
       "3            c         n          n  ...                        s   \n",
       "4            w         b          k  ...                        s   \n",
       "\n",
       "  stalk-color-above-ring stalk-color-below-ring veil-type veil-color  \\\n",
       "0                      w                      w         p          w   \n",
       "1                      w                      w         p          w   \n",
       "2                      w                      w         p          w   \n",
       "3                      w                      w         p          w   \n",
       "4                      w                      w         p          w   \n",
       "\n",
       "  ring-number ring-type spore-print-color population habitat  \n",
       "0           o         p                 k          s       u  \n",
       "1           o         p                 n          n       g  \n",
       "2           o         p                 n          n       m  \n",
       "3           o         p                 k          s       u  \n",
       "4           o         e                 n          a       g  \n",
       "\n",
       "[5 rows x 23 columns]"
      ]
     },
     "execution_count": 75,
     "metadata": {},
     "output_type": "execute_result"
    }
   ],
   "source": [
    "df = pd.read_csv('dataset/mushrooms.csv')\n",
    "df.head()"
   ]
  },
  {
   "cell_type": "markdown",
   "id": "48ac2a62",
   "metadata": {},
   "source": [
    "### **Análisis Exploratorio de Datos (EDA)**"
   ]
  },
  {
   "cell_type": "code",
   "execution_count": 94,
   "id": "68a903a9",
   "metadata": {},
   "outputs": [
    {
     "name": "stdout",
     "output_type": "stream",
     "text": [
      "Dimensiones del dataset: (8124, 23)\n",
      "\n",
      "Distribución de la variable objetivo:\n",
      "class\n",
      "e    4208\n",
      "p    3916\n",
      "Name: count, dtype: int64\n"
     ]
    },
    {
     "data": {
      "image/png": "[encoded data removed]",
      "text/plain": [
       "<Figure size 640x480 with 1 Axes>"
      ]
     },
     "metadata": {},
     "output_type": "display_data"
    }
   ],
   "source": [
    "print(f\"Dimensiones del dataset: {df.shape}\")\n",
    "print(\"\\nDistribución de la variable objetivo:\")\n",
    "print(df['class'].value_counts())\n",
    "\n",
    "sns.countplot(data=df, x='class')\n",
    "plt.title('Distribución de clases: Comestible vs Venenoso')\n",
    "plt.show()"
   ]
  },
  {
   "cell_type": "code",
   "execution_count": 77,
   "id": "2344296b",
   "metadata": {},
   "outputs": [
    {
     "data": {
      "text/plain": [
       "class                        2\n",
       "cap-shape                    6\n",
       "cap-surface                  4\n",
       "cap-color                   10\n",
       "bruises                      2\n",
       "odor                         9\n",
       "gill-attachment              2\n",
       "gill-spacing                 2\n",
       "gill-size                    2\n",
       "gill-color                  12\n",
       "stalk-shape                  2\n",
       "stalk-root                   5\n",
       "stalk-surface-above-ring     4\n",
       "stalk-surface-below-ring     4\n",
       "stalk-color-above-ring       9\n",
       "stalk-color-below-ring       9\n",
       "veil-type                    1\n",
       "veil-color                   4\n",
       "ring-number                  3\n",
       "ring-type                    5\n",
       "spore-print-color            9\n",
       "population                   6\n",
       "habitat                      7\n",
       "dtype: int64"
      ]
     },
     "execution_count": 77,
     "metadata": {},
     "output_type": "execute_result"
    }
   ],
   "source": [
    "# Revisión de valores únicos\n",
    "df.nunique()"
   ]
  },
  {
   "cell_type": "markdown",
   "id": "8ac4b531",
   "metadata": {},
   "source": [
    "### **Preprocesamiento y Codificación**"
   ]
  },
  {
   "cell_type": "code",
   "execution_count": 78,
   "id": "8087bf06",
   "metadata": {},
   "outputs": [
    {
     "data": {
      "text/html": [
       "<div>\n",
       "<style scoped>\n",
       "    .dataframe tbody tr th:only-of-type {\n",
       "        vertical-align: middle;\n",
       "    }\n",
       "\n",
       "    .dataframe tbody tr th {\n",
       "        vertical-align: top;\n",
       "    }\n",
       "\n",
       "    .dataframe thead th {\n",
       "        text-align: right;\n",
       "    }\n",
       "</style>\n",
       "<table border=\"1\" class=\"dataframe\">\n",
       "  <thead>\n",
       "    <tr style=\"text-align: right;\">\n",
       "      <th></th>\n",
       "      <th>class</th>\n",
       "      <th>cap-shape</th>\n",
       "      <th>cap-surface</th>\n",
       "      <th>cap-color</th>\n",
       "      <th>bruises</th>\n",
       "      <th>odor</th>\n",
       "      <th>gill-attachment</th>\n",
       "      <th>gill-spacing</th>\n",
       "      <th>gill-size</th>\n",
       "      <th>gill-color</th>\n",
       "      <th>...</th>\n",
       "      <th>stalk-surface-below-ring</th>\n",
       "      <th>stalk-color-above-ring</th>\n",
       "      <th>stalk-color-below-ring</th>\n",
       "      <th>veil-type</th>\n",
       "      <th>veil-color</th>\n",
       "      <th>ring-number</th>\n",
       "      <th>ring-type</th>\n",
       "      <th>spore-print-color</th>\n",
       "      <th>population</th>\n",
       "      <th>habitat</th>\n",
       "    </tr>\n",
       "  </thead>\n",
       "  <tbody>\n",
       "    <tr>\n",
       "      <th>0</th>\n",
       "      <td>1</td>\n",
       "      <td>5</td>\n",
       "      <td>2</td>\n",
       "      <td>4</td>\n",
       "      <td>1</td>\n",
       "      <td>6</td>\n",
       "      <td>1</td>\n",
       "      <td>0</td>\n",
       "      <td>1</td>\n",
       "      <td>4</td>\n",
       "      <td>...</td>\n",
       "      <td>2</td>\n",
       "      <td>7</td>\n",
       "      <td>7</td>\n",
       "      <td>0</td>\n",
       "      <td>2</td>\n",
       "      <td>1</td>\n",
       "      <td>4</td>\n",
       "      <td>2</td>\n",
       "      <td>3</td>\n",
       "      <td>5</td>\n",
       "    </tr>\n",
       "    <tr>\n",
       "      <th>1</th>\n",
       "      <td>0</td>\n",
       "      <td>5</td>\n",
       "      <td>2</td>\n",
       "      <td>9</td>\n",
       "      <td>1</td>\n",
       "      <td>0</td>\n",
       "      <td>1</td>\n",
       "      <td>0</td>\n",
       "      <td>0</td>\n",
       "      <td>4</td>\n",
       "      <td>...</td>\n",
       "      <td>2</td>\n",
       "      <td>7</td>\n",
       "      <td>7</td>\n",
       "      <td>0</td>\n",
       "      <td>2</td>\n",
       "      <td>1</td>\n",
       "      <td>4</td>\n",
       "      <td>3</td>\n",
       "      <td>2</td>\n",
       "      <td>1</td>\n",
       "    </tr>\n",
       "    <tr>\n",
       "      <th>2</th>\n",
       "      <td>0</td>\n",
       "      <td>0</td>\n",
       "      <td>2</td>\n",
       "      <td>8</td>\n",
       "      <td>1</td>\n",
       "      <td>3</td>\n",
       "      <td>1</td>\n",
       "      <td>0</td>\n",
       "      <td>0</td>\n",
       "      <td>5</td>\n",
       "      <td>...</td>\n",
       "      <td>2</td>\n",
       "      <td>7</td>\n",
       "      <td>7</td>\n",
       "      <td>0</td>\n",
       "      <td>2</td>\n",
       "      <td>1</td>\n",
       "      <td>4</td>\n",
       "      <td>3</td>\n",
       "      <td>2</td>\n",
       "      <td>3</td>\n",
       "    </tr>\n",
       "    <tr>\n",
       "      <th>3</th>\n",
       "      <td>1</td>\n",
       "      <td>5</td>\n",
       "      <td>3</td>\n",
       "      <td>8</td>\n",
       "      <td>1</td>\n",
       "      <td>6</td>\n",
       "      <td>1</td>\n",
       "      <td>0</td>\n",
       "      <td>1</td>\n",
       "      <td>5</td>\n",
       "      <td>...</td>\n",
       "      <td>2</td>\n",
       "      <td>7</td>\n",
       "      <td>7</td>\n",
       "      <td>0</td>\n",
       "      <td>2</td>\n",
       "      <td>1</td>\n",
       "      <td>4</td>\n",
       "      <td>2</td>\n",
       "      <td>3</td>\n",
       "      <td>5</td>\n",
       "    </tr>\n",
       "    <tr>\n",
       "      <th>4</th>\n",
       "      <td>0</td>\n",
       "      <td>5</td>\n",
       "      <td>2</td>\n",
       "      <td>3</td>\n",
       "      <td>0</td>\n",
       "      <td>5</td>\n",
       "      <td>1</td>\n",
       "      <td>1</td>\n",
       "      <td>0</td>\n",
       "      <td>4</td>\n",
       "      <td>...</td>\n",
       "      <td>2</td>\n",
       "      <td>7</td>\n",
       "      <td>7</td>\n",
       "      <td>0</td>\n",
       "      <td>2</td>\n",
       "      <td>1</td>\n",
       "      <td>0</td>\n",
       "      <td>3</td>\n",
       "      <td>0</td>\n",
       "      <td>1</td>\n",
       "    </tr>\n",
       "  </tbody>\n",
       "</table>\n",
       "<p>5 rows × 23 columns</p>\n",
       "</div>"
      ],
      "text/plain": [
       "   class  cap-shape  cap-surface  cap-color  bruises  odor  gill-attachment  \\\n",
       "0      1          5            2          4        1     6                1   \n",
       "1      0          5            2          9        1     0                1   \n",
       "2      0          0            2          8        1     3                1   \n",
       "3      1          5            3          8        1     6                1   \n",
       "4      0          5            2          3        0     5                1   \n",
       "\n",
       "   gill-spacing  gill-size  gill-color  ...  stalk-surface-below-ring  \\\n",
       "0             0          1           4  ...                         2   \n",
       "1             0          0           4  ...                         2   \n",
       "2             0          0           5  ...                         2   \n",
       "3             0          1           5  ...                         2   \n",
       "4             1          0           4  ...                         2   \n",
       "\n",
       "   stalk-color-above-ring  stalk-color-below-ring  veil-type  veil-color  \\\n",
       "0                       7                       7          0           2   \n",
       "1                       7                       7          0           2   \n",
       "2                       7                       7          0           2   \n",
       "3                       7                       7          0           2   \n",
       "4                       7                       7          0           2   \n",
       "\n",
       "   ring-number  ring-type  spore-print-color  population  habitat  \n",
       "0            1          4                  2           3        5  \n",
       "1            1          4                  3           2        1  \n",
       "2            1          4                  3           2        3  \n",
       "3            1          4                  2           3        5  \n",
       "4            1          0                  3           0        1  \n",
       "\n",
       "[5 rows x 23 columns]"
      ]
     },
     "execution_count": 78,
     "metadata": {},
     "output_type": "execute_result"
    }
   ],
   "source": [
    "# Todos los atributos son categóricos, por lo que usaremos LabelEncoder\n",
    "le = LabelEncoder()\n",
    "df_encoded = df.apply(le.fit_transform)\n",
    "\n",
    "# Revisión\n",
    "df_encoded.head()\n"
   ]
  },
  {
   "cell_type": "markdown",
   "id": "179db469",
   "metadata": {},
   "source": [
    "### **División de Datos**"
   ]
  },
  {
   "cell_type": "code",
   "execution_count": 79,
   "id": "cee6ba33",
   "metadata": {},
   "outputs": [
    {
     "name": "stdout",
     "output_type": "stream",
     "text": [
      "Tamaño de entrenamiento: (6499, 22)\n",
      "Tamaño de prueba: (1625, 22)\n"
     ]
    }
   ],
   "source": [
    "X = df_encoded.drop('class', axis=1)\n",
    "y = df_encoded['class']\n",
    "\n",
    "X_train, X_test, y_train, y_test = train_test_split(\n",
    "    X, y, test_size=0.2, random_state=42)\n",
    "\n",
    "print(f\"Tamaño de entrenamiento: {X_train.shape}\")\n",
    "print(f\"Tamaño de prueba: {X_test.shape}\")\n"
   ]
  },
  {
   "cell_type": "markdown",
   "id": "9da10298",
   "metadata": {},
   "source": [
    "## **Modelo Naive Bayes**"
   ]
  },
  {
   "cell_type": "markdown",
   "id": "a6eb9152",
   "metadata": {},
   "source": [
    "### **Entrenamiento del modelo**"
   ]
  },
  {
   "cell_type": "code",
   "execution_count": 80,
   "id": "a7917085",
   "metadata": {},
   "outputs": [],
   "source": [
    "modelNB = CategoricalNB()\n",
    "modelNB.fit(X_train, y_train)\n",
    "\n",
    "# Predicciones\n",
    "y_pred_NB = modelNB.predict(X_test)\n"
   ]
  },
  {
   "cell_type": "markdown",
   "id": "9d96fdeb",
   "metadata": {},
   "source": [
    "### **Evaluación del modelo**"
   ]
  },
  {
   "cell_type": "code",
   "execution_count": 88,
   "id": "05c70f29",
   "metadata": {},
   "outputs": [
    {
     "data": {
      "image/png": "[encoded data removed]",
      "text/plain": [
       "<Figure size 640x480 with 2 Axes>"
      ]
     },
     "metadata": {},
     "output_type": "display_data"
    },
    {
     "name": "stdout",
     "output_type": "stream",
     "text": [
      "\n",
      "Reporte de Clasificación:\n",
      "              precision    recall  f1-score   support\n",
      "\n",
      "           0       0.92      0.99      0.95       843\n",
      "           1       0.99      0.91      0.95       782\n",
      "\n",
      "    accuracy                           0.95      1625\n",
      "   macro avg       0.96      0.95      0.95      1625\n",
      "weighted avg       0.95      0.95      0.95      1625\n",
      "\n",
      "\n",
      "Accuracy Naive Bayes: 95.08%\n"
     ]
    }
   ],
   "source": [
    "cm_nb = confusion_matrix(y_test, y_pred_NB)\n",
    "\n",
    "sns.heatmap(cm_nb, annot=True, fmt='d', cmap='Blues', xticklabels=['Edible', 'Poisonous'], yticklabels=['Edible', 'Poisonous'])\n",
    "plt.xlabel('Predicción')\n",
    "plt.ylabel('Real')\n",
    "plt.title('Matriz de Confusión - Naive Bayes')\n",
    "plt.show()\n",
    "\n",
    "# Reporte \n",
    "print(\"\\nReporte de Clasificación:\")\n",
    "print(classification_report(y_test, y_pred_NB))\n",
    "\n",
    "# Accuracy\n",
    "accuracy_NB = accuracy_score(y_test, y_pred_NB)\n",
    "print(f\"\\nAccuracy Naive Bayes: {accuracy_NB*100:.2f}%\")\n"
   ]
  },
  {
   "cell_type": "markdown",
   "id": "f9b90627",
   "metadata": {},
   "source": [
    "### **Validación Cruzada - Naive Bayes**"
   ]
  },
  {
   "cell_type": "code",
   "execution_count": 90,
   "id": "f28d1322",
   "metadata": {},
   "outputs": [
    {
     "name": "stdout",
     "output_type": "stream",
     "text": [
      "Accuracy promedio: 95.27%\n",
      "Desviación estándar: 0.66%\n",
      "Puntuaciones: ['95.02%', '95.88%', '95.57%', '94.09%', '95.81%']\n"
     ]
    }
   ],
   "source": [
    "# Usamos StratifiedKFold para mantener la proporción de clases\n",
    "cv_strategy = StratifiedKFold(n_splits=5, shuffle=True, random_state=42)\n",
    "\n",
    "# Realizamos la validación cruzada\n",
    "scores_NB = cross_val_score(CategoricalNB(), X, y, cv=cv_strategy, scoring='accuracy')\n",
    "print(f\"Accuracy promedio: {np.mean(scores_NB)*100:.2f}%\")\n",
    "print(f\"Desviación estándar: {np.std(scores_NB)*100:.2f}%\")\n",
    "print(f\"Puntuaciones: {[f'{score*100:.2f}%' for score in scores_NB]}\")\n"
   ]
  },
  {
   "cell_type": "markdown",
   "id": "27354402",
   "metadata": {},
   "source": [
    "## **Modelo Random Forest**"
   ]
  },
  {
   "cell_type": "markdown",
   "id": "32cb32c4",
   "metadata": {},
   "source": [
    "### **Entrenamiento del modelo**"
   ]
  },
  {
   "cell_type": "code",
   "execution_count": 83,
   "id": "b7c33e6b",
   "metadata": {},
   "outputs": [],
   "source": [
    "modelRF = RandomForestClassifier(n_estimators=100, max_depth=10, min_samples_split=5, min_samples_leaf=2, random_state=42, n_jobs=-1)\n",
    "modelRF.fit(X_train, y_train)\n",
    "\n",
    "#Predicciones\n",
    "y_pred_RF = modelRF.predict(X_test)"
   ]
  },
  {
   "cell_type": "markdown",
   "id": "d00303d0",
   "metadata": {},
   "source": [
    "### **Evaluación del modelo**"
   ]
  },
  {
   "cell_type": "code",
   "execution_count": 84,
   "id": "8b7a2356",
   "metadata": {},
   "outputs": [
    {
     "data": {
      "image/png": "[encoded data removed]",
      "text/plain": [
       "<Figure size 640x480 with 2 Axes>"
      ]
     },
     "metadata": {},
     "output_type": "display_data"
    },
    {
     "name": "stdout",
     "output_type": "stream",
     "text": [
      "\n",
      "Reporte de Clasificación:\n",
      "              precision    recall  f1-score   support\n",
      "\n",
      "           0       1.00      1.00      1.00       843\n",
      "           1       1.00      1.00      1.00       782\n",
      "\n",
      "    accuracy                           1.00      1625\n",
      "   macro avg       1.00      1.00      1.00      1625\n",
      "weighted avg       1.00      1.00      1.00      1625\n",
      "\n",
      "\n",
      " Accuracy Random Forest: 100.00%\n"
     ]
    }
   ],
   "source": [
    "cm_rf = confusion_matrix(y_test, y_pred_RF)\n",
    "\n",
    "sns.heatmap(cm_rf, annot=True, fmt='d', cmap='Purples', xticklabels=['Edible', 'Poisonous'], yticklabels=['Edible', 'Poisonous'])\n",
    "plt.xlabel('Predicción')\n",
    "plt.ylabel('Real')\n",
    "plt.title('Matriz de Confusión - Random Forest')\n",
    "plt.show()\n",
    "\n",
    "# Reporte\n",
    "print(\"\\nReporte de Clasificación:\")\n",
    "print(classification_report(y_test, y_pred_RF))\n",
    "\n",
    "# Accuracy\n",
    "accuracy_RF = accuracy_score(y_test, y_pred_RF)\n",
    "print(f\"\\n Accuracy Random Forest: {accuracy_RF*100:.2f}%\")"
   ]
  },
  {
   "cell_type": "markdown",
   "id": "44da38f5",
   "metadata": {},
   "source": [
    "### **Validación Cruzada - Random Forest**"
   ]
  },
  {
   "cell_type": "code",
   "execution_count": 89,
   "id": "704ffbd4",
   "metadata": {},
   "outputs": [
    {
     "name": "stdout",
     "output_type": "stream",
     "text": [
      "Accuracy promedio: 100.00%\n",
      "Desviación estándar: 0.00%\n",
      "Puntuaciones: ['100.00%', '100.00%', '100.00%', '100.00%', '100.00%']\n"
     ]
    }
   ],
   "source": [
    "# Random Forest\n",
    "scores_RF = cross_val_score(RandomForestClassifier(n_estimators=100, max_depth=10, random_state=42), X, y, cv=cv_strategy, scoring='accuracy')\n",
    "print(f\"Accuracy promedio: {np.mean(scores_RF)*100:.2f}%\")\n",
    "print(f\"Desviación estándar: {np.std(scores_RF)*100:.2f}%\")\n",
    "print(f\"Puntuaciones: {[f'{score*100:.2f}%' for score in scores_RF]}\")"
   ]
  },
  {
   "cell_type": "markdown",
   "id": "16db6807",
   "metadata": {},
   "source": [
    "### **Prueba con Ejemplo Real - Comparación de Modelos**"
   ]
  },
  {
   "cell_type": "code",
   "execution_count": 93,
   "id": "a64d8214",
   "metadata": {},
   "outputs": [
    {
     "name": "stdout",
     "output_type": "stream",
     "text": [
      "Hongo seleccionado: [2 2 8 0 5 1 1 0 3 1 3 0 0 7 7 0 2 1 0 2 0 1]\n",
      "Clase real: Edible\n",
      "\n",
      "Naive Bayes:\n",
      "   Predicción: Edible\n",
      "   Probabilidades: Edible=1.000, Poisonous=0.000\n",
      "\n",
      "Random Forest:\n",
      "   Predicción: Edible\n",
      "   Probabilidades: Edible=1.000, Poisonous=0.000\n",
      "\n",
      "Los modelos coinciden!!!!\n",
      "\n",
      "Confianza del Modelo:\n",
      "   Naive Bayes: 100.0%\n",
      "   Random Forest: 100.0%\n"
     ]
    }
   ],
   "source": [
    "# Seleccionamos el mismo hongo para comparar predicciones\n",
    "ejemplo = X.sample(1, random_state=1)\n",
    "clase_real = y.loc[ejemplo.index[0]]\n",
    "\n",
    "# Predicciones de ambos modelos\n",
    "pred_NB = modelNB.predict(ejemplo)[0]\n",
    "pred_RF = modelRF.predict(ejemplo)[0]\n",
    "\n",
    "# Probabilidades (más informativo)\n",
    "prob_NB = modelNB.predict_proba(ejemplo)[0]\n",
    "prob_RF = modelRF.predict_proba(ejemplo)[0]\n",
    "\n",
    "print(f\"Hongo seleccionado: {ejemplo.values.flatten()}\")\n",
    "print(f\"Clase real: {'Edible' if clase_real == 0 else 'Poisonous'}\")\n",
    "\n",
    "print(f\"\\nNaive Bayes:\")\n",
    "print(f\"   Predicción: {'Edible' if pred_NB == 0 else 'Poisonous'}\")\n",
    "print(f\"   Probabilidades: Edible={prob_NB[0]:.3f}, Poisonous={prob_NB[1]:.3f}\")\n",
    "\n",
    "print(f\"\\nRandom Forest:\")\n",
    "print(f\"   Predicción: {'Edible' if pred_RF == 0 else 'Poisonous'}\")\n",
    "print(f\"   Probabilidades: Edible={prob_RF[0]:.3f}, Poisonous={prob_RF[1]:.3f}\")\n",
    "\n",
    "# Consenso de modelos\n",
    "if pred_NB == pred_RF:\n",
    "    concenso = \"Los modelos coinciden!!!!\"\n",
    "else:\n",
    "    concenso = \"Los modelos no coinciden :(\"\n",
    "\n",
    "print(f\"\\n{concenso}\")\n",
    "\n",
    "# Confianza\n",
    "confianza_NB = max(prob_NB)\n",
    "confianza_RF = max(prob_RF)\n",
    "print(f\"\\nConfianza del Modelo:\")\n",
    "print(f\"   Naive Bayes: {confianza_NB:.1%}\")\n",
    "print(f\"   Random Forest: {confianza_RF:.1%}\")"
   ]
  },
  {
   "cell_type": "markdown",
   "id": "1577403e",
   "metadata": {},
   "source": [
    "### **Comparación Final de Modelos**"
   ]
  },
  {
   "cell_type": "code",
   "execution_count": 96,
   "id": "6f754981",
   "metadata": {},
   "outputs": [
    {
     "name": "stdout",
     "output_type": "stream",
     "text": [
      "Métrica                   Naive Bayes     Random Forest  \n",
      "-------------------------------------------------------\n",
      "Accuracy (Test Set)       0.951 (95.1%)     1.000 (100.0%)\n",
      "Accuracy (CV)             0.953 (95.3%)     1.000 (100.0%)\n",
      "Desviación Estándar       0.007                0.000\n",
      "\n",
      "Análisis de Errores Crítios\n",
      "-------------------------------------------------------\n",
      "Falsos Positivos          74              0\n",
      "Falsos Negativos          6               0\n",
      "\n",
      "Consideraciones:\n",
      "Falsos Positivos: Hongos venenosos clasificados como comestibles (crítico)\n",
      "Falsos Negativos: Hongos comestibles clasificados como venenosos (menos crítico)\n",
      "\n"
     ]
    }
   ],
   "source": [
    "# Métricas del conjunto de prueba\n",
    "accuracy_nb = accuracy_score(y_test, y_pred_NB)\n",
    "accuracy_rf = accuracy_score(y_test, y_pred_RF)\n",
    "\n",
    "# Métricas de validación cruzada\n",
    "scores_nb_final = cross_val_score(CategoricalNB(), X, y, cv=cv_strategy, scoring='accuracy')\n",
    "cv_mean_nb = np.mean(scores_nb_final)\n",
    "cv_std_nb = np.std(scores_nb_final)\n",
    "\n",
    "cv_mean_rf = np.mean(scores_RF)\n",
    "cv_std_rf = np.std(scores_RF)\n",
    "\n",
    "# Análisis de errores críticos\n",
    "cm_nb = confusion_matrix(y_test, y_pred_NB)\n",
    "cm_rf = confusion_matrix(y_test, y_pred_RF)\n",
    "\n",
    "# Falsos positivos: hongos venenosos clasificados como comestibles\n",
    "false_positives_nb = cm_nb[1, 0]\n",
    "false_positives_rf = cm_rf[1, 0]\n",
    "\n",
    "# Falsos negativos: hongos comestibles clasificados como venenosos\n",
    "false_negatives_nb = cm_nb[0, 1]\n",
    "false_negatives_rf = cm_rf[0, 1]\n",
    "\n",
    "print(f\"{'Métrica':<25} {'Naive Bayes':<15} {'Random Forest':<15}\")\n",
    "print(\"-\" * 55)\n",
    "print(f\"{'Accuracy (Test Set)':<25} {accuracy_nb:.3f} ({accuracy_nb*100:.1f}%){'':<4} {accuracy_rf:.3f} ({accuracy_rf*100:.1f}%)\")\n",
    "print(f\"{'Accuracy (CV)':<25} {cv_mean_nb:.3f} ({cv_mean_nb*100:.1f}%){'':<4} {cv_mean_rf:.3f} ({cv_mean_rf*100:.1f}%)\")\n",
    "print(f\"{'Desviación Estándar':<25} {cv_std_nb:.3f}{'':<15} {cv_std_rf:.3f}\")\n",
    "print()\n",
    "\n",
    "print(\"Análisis de Errores Crítios\")\n",
    "print(\"-\" * 55)\n",
    "print(f\"{'Falsos Positivos':<25} {false_positives_nb:<15} {false_positives_rf}\")\n",
    "print(f\"{'Falsos Negativos':<25} {false_negatives_nb:<15} {false_negatives_rf}\")\n",
    "print()\n",
    "\n",
    "print(\"Consideraciones:\")\n",
    "print(\"Falsos Positivos: Hongos venenosos clasificados como comestibles (crítico)\")\n",
    "print(\"Falsos Negativos: Hongos comestibles clasificados como venenosos (menos crítico)\")\n",
    "print()"
   ]
  }
 ],
 "metadata": {
  "kernelspec": {
   "display_name": "env",
   "language": "python",
   "name": "python3"
  },
  "language_info": {
   "codemirror_mode": {
    "name": "ipython",
    "version": 3
   },
   "file_extension": ".py",
   "mimetype": "text/x-python",
   "name": "python",
   "nbconvert_exporter": "python",
   "pygments_lexer": "ipython3",
   "version": "3.12.11"
  }
 },
 "nbformat": 4,
 "nbformat_minor": 5
}
